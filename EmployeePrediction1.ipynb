{
  "nbformat": 4,
  "nbformat_minor": 0,
  "metadata": {
    "colab": {
      "name": "EmployeePrediction1.ipynb",
      "private_outputs": true,
      "provenance": [],
      "collapsed_sections": [],
      "authorship_tag": "ABX9TyMSA18U1d/nVE4FpJsnsA53",
      "include_colab_link": true
    },
    "kernelspec": {
      "name": "python3",
      "display_name": "Python 3"
    },
    "language_info": {
      "name": "python"
    }
  },
  "cells": [
    {
      "cell_type": "markdown",
      "metadata": {
        "id": "view-in-github",
        "colab_type": "text"
      },
      "source": [
        "<a href=\"https://colab.research.google.com/github/Decko048/CIMSpark/blob/master/EmployeePrediction1.ipynb\" target=\"_parent\"><img src=\"https://colab.research.google.com/assets/colab-badge.svg\" alt=\"Open In Colab\"/></a>"
      ]
    },
    {
      "cell_type": "code",
      "metadata": {
        "id": "-jqGhfZLdWmZ"
      },
      "source": [
        "#!pip install category_encoders\n",
        "#!pip install scandir"
      ],
      "execution_count": null,
      "outputs": []
    },
    {
      "cell_type": "code",
      "metadata": {
        "id": "Obnz5_gxRf9h"
      },
      "source": [
        "import pandas as pd\n",
        "import numpy as np\n",
        "import matplotlib.pyplot as plt\n",
        "import seaborn as sns\n",
        "import plotly.express as px\n",
        "import plotly.graph_objects as go\n",
        "\n",
        "from sklearn import preprocessing \n",
        "from category_encoders import *\n",
        "from sklearn.preprocessing import LabelEncoder\n",
        "%matplotlib inline\n",
        "from sklearn.neighbors import KNeighborsClassifier\n",
        "from sklearn.ensemble import RandomForestClassifier\n",
        "from sklearn.linear_model import LogisticRegression\n",
        "from sklearn import datasets, linear_model, metrics\n",
        "from sklearn.metrics import  confusion_matrix\n",
        "from sklearn.metrics import accuracy_score, confusion_matrix, classification_report\n",
        "from sklearn.preprocessing import StandardScaler\n",
        "from sklearn.model_selection import train_test_split\n",
        "from sklearn.metrics import classification_report,confusion_matrix\n",
        "import warnings\n",
        "warnings.filterwarnings('ignore')"
      ],
      "execution_count": null,
      "outputs": []
    },
    {
      "cell_type": "code",
      "metadata": {
        "id": "6cQYKwjQlCd0"
      },
      "source": [
        "# Use the built-in version of scandir/walk if possible, otherwise\n",
        "# use the scandir module version\n",
        "try:\n",
        "    from os import scandir, walk\n",
        "except ImportError:\n",
        "    from scandir import scandir, walk\n",
        "\n",
        "def subdirs(path):\n",
        "    for entry in os.scandir(path):\n",
        "        if not entry.name.startswith('.') and entry.is_dir():\n",
        "            yield entry.name"
      ],
      "execution_count": null,
      "outputs": []
    },
    {
      "cell_type": "code",
      "metadata": {
        "id": "-SUGY_44mL1e"
      },
      "source": [
        "import requests\n",
        "import os\n",
        "\n",
        "# URL on the Github where the csv files are stored\n",
        "github_url = 'https://decko048.github.io/dataset/'\n",
        "\n",
        "result = requests.get(github_url)\n",
        "filename = [ ]\n",
        "print(filename)"
      ],
      "execution_count": null,
      "outputs": []
    },
    {
      "cell_type": "code",
      "metadata": {
        "id": "Gaeb1smNRixD"
      },
      "source": [
        "df = pd.read_csv(\"https://decko048.github.io/dataset/data_produk.csv\")\n",
        "df"
      ],
      "execution_count": null,
      "outputs": []
    },
    {
      "cell_type": "code",
      "metadata": {
        "id": "0oO5kC2bR_64"
      },
      "source": [
        "# Exploratory Data Analysis (EDA) using User Defined Function\n",
        "\n",
        "def libraries():\n",
        "    global pd,np\n",
        "    import pandas as pd\n",
        "    import numpy as np\n",
        "def load():\n",
        "    global df\n",
        "    df = pd.read_csv(\"https://decko048.github.io/dataset/data_produk.csv\")\n",
        "    \n",
        "def top_rows(value):\n",
        "    print('\\033[1m'+ 'displaying the', value, 'rows from top'+'\\033[0m')\n",
        "    a=df.head(value)\n",
        "    print(a,'\\n')\n",
        "    \n",
        "def bottom_rows(value):\n",
        "    print('\\033[1m'+'displaying the', value, 'rows from bottom'+'\\033[0m')\n",
        "    b=df.tail(value)\n",
        "    print(b,'\\n')\n",
        "    \n",
        "def rows_columns():\n",
        "    print('\\033[1m'+'Shape of the Data set'+'\\033[0m')\n",
        "    c=df.shape\n",
        "    print(c,'\\n')\n",
        "    \n",
        "def col_names():\n",
        "    print('\\033[1m'+'Column Names in the Data set'+'\\033[0m')\n",
        "    d=df.columns\n",
        "    print(d,'\\n')\n",
        "    \n",
        "def information():\n",
        "    print('\\033[1m'+'Quick Overview of DataSet(info)'+'\\033[0m')\n",
        "    e = df.info()\n",
        "    print(e,'\\n')\n",
        "\n",
        "def sizee():\n",
        "    print('\\033[1m'+'No.of Elements in the DataSet'+'\\033[0m')\n",
        "    f = df.size\n",
        "    print(f,'\\n')\n",
        "\n",
        "def ndimension():\n",
        "    print('\\033[1m'+'Dimensions in your dataframe'+'\\033[0m')\n",
        "    g = df.ndim\n",
        "    print(g,'\\n')\n",
        "    \n",
        "def stats_summary():\n",
        "    print('\\033[1m'+'Staistical Summary of DataSet'+'\\033[0m')\n",
        "    h = df.describe()\n",
        "    print(h,'\\n')\n",
        "    \n",
        "def null_values():\n",
        "    print('\\033[1m'+'Number of Missing values in each column'+'\\033[0m')\n",
        "    i = df.isnull().sum()\n",
        "    print(i,'\\n')\n",
        "    \n",
        "def n_unique():\n",
        "    print('\\033[1m'+'Number of unique elements'+'\\033[0m')\n",
        "    j = df.nunique()\n",
        "    print(j,'\\n')\n",
        "    \n",
        "def memory_use():\n",
        "    print('\\033[1m'+'Memory used by all colomns in bytes'+'\\033[0m')\n",
        "    k = df.memory_usage()\n",
        "    print(k,'\\n')\n",
        "    \n",
        "def is_na(value):\n",
        "    print('\\033[1m'+'Dataframe filled with boolean values with true indicating missing values'+'\\033[0m')\n",
        "    l = df.isna().head(value)\n",
        "    print(l,'\\n')\n",
        "    \n",
        "def duplicate():\n",
        "    print('\\033[1m'+'Boolean Series denoting duplicate rows'+'\\033[0m')\n",
        "    m = df.duplicated().sum()\n",
        "    print(m,'\\n')\n",
        "    \n",
        "def valuecounts():\n",
        "    print('\\033[1m'+'Series containing count of unique values'+'\\033[0m')\n",
        "    n = df.value_counts()\n",
        "    print(n,'\\n')\n",
        "\n",
        "def datatypes():\n",
        "    print('\\033[1m'+'Datatype of each column'+'\\033[0m')\n",
        "    o = df.dtypes\n",
        "    print(o,'\\n')\n",
        "    \n",
        "def correlation():\n",
        "    print('\\033[1m'+'Correalation between all columns in DataFrame'+'\\033[0m')\n",
        "    p = df.corr()\n",
        "    print(p,'\\n')\n",
        "    \n",
        "def nonnull_count():\n",
        "    print('\\033[1m'+'Count of non-null values'+'\\033[0m')\n",
        "    q = df.count()\n",
        "    print(q,'\\n')\n",
        "    \n",
        "def eda():\n",
        "    load()\n",
        "    value= 5 \n",
        "    datatypes()\n",
        "    top_rows(value)\n",
        "    bottom_rows(value)\n",
        "    rows_columns()\n",
        "    col_names()\n",
        "    information()\n",
        "    sizee()\n",
        "    ndimension()\n",
        "    stats_summary()\n",
        "    null_values()\n",
        "    n_unique()\n",
        "    memory_use()\n",
        "    is_na(value)\n",
        "    nonnull_count()\n",
        "    duplicate()\n",
        "    valuecounts()\n",
        "    correlation()\n",
        "    \n",
        "    \n",
        "    \n",
        "        \n",
        "def stats_u(data,col):\n",
        "    if data[col].dtype == \"float64\":\n",
        "        print(col,\"has Quantitative data\")\n",
        "        mean_value=data[col].mean()\n",
        "        print('mean of',col,'column',mean_value)\n",
        "        max_value = data[col].max()\n",
        "        print('Maximum value of',col,'column',max_value)\n",
        "        min_value = data[col].min()\n",
        "        print('Minimum value of',col,'column',min_value)\n",
        "        median_value = data[col].median(skipna = True)\n",
        "        print('median of',col,'column',median_value)\n",
        "        std_value = data[col].std()\n",
        "        print('standard deviation of',col,'column',std_value)\n",
        "        q1 = data[col].quantile(0.25,interpolation='nearest')\n",
        "        print('quartile 1 of',col,'column is',q1)\n",
        "        q2 = data[col].quantile(0.5,interpolation='nearest')\n",
        "        print('quartile 2 of',col,'column is',q2)\n",
        "        q3 = data[col].quantile(0.75,interpolation='nearest')\n",
        "        print('quartile 3 of',col,'column is',q3)\n",
        "        q4 = data[col].quantile(1,interpolation='nearest')\n",
        "        print('quartile 4 of',col,'column is',q4)\n",
        "        IQR = q3 -q1\n",
        "        LLP = q1 - 1.5*IQR\n",
        "        ULP = q3 + 1.5*IQR\n",
        "        print('Lower Limit Point:',LLP)\n",
        "        print('Upper Limit Point:',ULP)\n",
        "        if data[col].min() > LLP and data[col].max() < ULP:\n",
        "            print(\"No outliers\")\n",
        "        else:\n",
        "            print(\"There are outliers\")\n",
        "            print(data[data[col]<LLP][col])\n",
        "            print(data[data[col]>ULP][col])\n",
        "            \n",
        "    elif data[col].dtype == \"int64\":\n",
        "        print(col,\"has Quantitative data\")\n",
        "        mean_value=data[col].mean()\n",
        "        print('mean of',col,'column',mean_value)\n",
        "        median_value = data[col].median(skipna = True)\n",
        "        print('median of',col,'column',median_value)\n",
        "        std_value = data[col].std()\n",
        "        print('standard deviation of',col,'column',std_value)\n",
        "        q1 = data[col].quantile(0.25,interpolation='nearest')\n",
        "        print('quartile 1 of',col,'column is',q1)\n",
        "        q2 = data[col].quantile(0.5,interpolation='nearest')\n",
        "        print('quartile 2 of',col,'column is',q2)\n",
        "        q3 = data[col].quantile(0.75,interpolation='nearest')\n",
        "        print('quartile 3 of',col,'column is',q3)\n",
        "        q4 = data[col].quantile(1,interpolation='nearest')\n",
        "        print('quartile 4 of',col,'column is',q4)\n",
        "        IQR = q3 -q1\n",
        "        LLP = q1 - 1.5*IQR\n",
        "        ULP = q3 + 1.5*IQR\n",
        "        print('Lower Limit Point:',LLP)\n",
        "        print('Upper Limit Point:',ULP)\n",
        "        if data[col].min() > LLP and data[col].max() < ULP:\n",
        "            print(\"No outliers\")\n",
        "        else:\n",
        "            print(\"There are outliers\")\n",
        "            print(\"Outliers are:\")\n",
        "            print(data[data[col]<LLP][col])\n",
        "            print(data[data[col]>ULP][col])\n",
        "    else:\n",
        "        print(col,'has Qualitative Data')\n",
        "        z = df[col].mode()\n",
        "        print('mode of',col,'column:\\n',z)\n",
        "        print('Count of mode is:\\n',df[col].value_counts())\n",
        "        print('Unique strings in',col,'are',data[col].nunique())\n",
        "        if(data[col].nunique() == 1):\n",
        "            print(col,'has same string')\n",
        "        elif(data[col].nunique() == 2):\n",
        "            print(col,'has binary strings')\n",
        "        else:\n",
        "            print(col,'has multi stings')\n",
        "\n",
        "\n",
        "libraries()\n",
        "eda()\n",
        "\n",
        "print(\"----------------------------------------------------------------------------------------------------------------------\")\n",
        "print('\\033[1m'+'Summary Of DataSet'+'\\033[0m')\n",
        "print('\\033[1m'+'DataTypes in the DataSet:\\n'+'\\033[0m',df.dtypes)\n",
        "print('\\033[1m'+'Columns in DataSet:'+'\\033[0m',df.columns)\n",
        "print('\\033[1m'+'Shape of DataSet:'+'\\033[0m',df.shape)\n",
        "print('\\033[1m'+'Size of DataSet:'+'\\033[0m',df.size)\n",
        "print('\\033[1m'+'Dimension of DataSet:'+'\\033[0m',df.ndim)\n",
        "print('\\033[1m'+'Total Memory used in DataSet:'+'\\033[0m',df.memory_usage().sum())\n",
        "print('\\033[1m'+'Total Number of missing values in DataSet:'+'\\033[0m',df.isnull().sum().sum())\n",
        "print('\\033[1m'+'Total Number of Unique values in DataSet:'+'\\033[0m',df.nunique().sum())\n",
        "print('\\033[1m'+'Total Number of non null values in DataSet:'+'\\033[0m',df.count().sum())\n",
        "print('\\033[1m'+'Total Number of duplicate rows in DataSet:'+'\\033[0m',df.duplicated().sum())\n",
        "print(\"----------------------------------------------------------------------------------------------------------------------\")\n",
        "print('\\033[1m'+'Summary Of Each Colomn'+'\\033[0m')\n",
        "print(\"\\n\")\n",
        "cols=df.columns\n",
        "cols\n",
        "for i in cols:\n",
        "    print('\\033[1m'+i+'\\033[0m')\n",
        "    stats_u(df,i)\n",
        "    print(\"\\n\")"
      ],
      "execution_count": null,
      "outputs": []
    },
    {
      "cell_type": "code",
      "metadata": {
        "id": "6z_lvDIySTQQ"
      },
      "source": [
        "df.head()"
      ],
      "execution_count": null,
      "outputs": []
    },
    {
      "cell_type": "code",
      "metadata": {
        "id": "lWQW-D9mSp0A"
      },
      "source": [
        "df.tail()"
      ],
      "execution_count": null,
      "outputs": []
    },
    {
      "cell_type": "code",
      "metadata": {
        "id": "asBU69OVSsDR"
      },
      "source": [
        "df.info()"
      ],
      "execution_count": null,
      "outputs": []
    },
    {
      "cell_type": "code",
      "metadata": {
        "id": "BHPMdXhpSvXv"
      },
      "source": [
        "df.describe()"
      ],
      "execution_count": null,
      "outputs": []
    },
    {
      "cell_type": "code",
      "metadata": {
        "id": "88lZY0OETX8g"
      },
      "source": [
        "df.isnull().sum()"
      ],
      "execution_count": null,
      "outputs": []
    },
    {
      "cell_type": "code",
      "metadata": {
        "id": "3t3fbZLYTaEg"
      },
      "source": [
        "df.duplicated().sum()"
      ],
      "execution_count": null,
      "outputs": []
    },
    {
      "cell_type": "code",
      "metadata": {
        "id": "SZSzModRTbug"
      },
      "source": [
        "df.skew()"
      ],
      "execution_count": null,
      "outputs": []
    },
    {
      "cell_type": "code",
      "metadata": {
        "id": "xMQNeUVKTdmh"
      },
      "source": [
        "df.corr()"
      ],
      "execution_count": null,
      "outputs": []
    },
    {
      "cell_type": "code",
      "metadata": {
        "id": "stpVgZu2TgYA"
      },
      "source": [
        "#! pip install Autoviz\n",
        "#! pip install xlrd"
      ],
      "execution_count": null,
      "outputs": []
    },
    {
      "cell_type": "code",
      "metadata": {
        "id": "d6ull5WqTkh_"
      },
      "source": [
        "from autoviz.AutoViz_Class import AutoViz_Class\n",
        "AV = AutoViz_Class()\n",
        "df_av = AV.AutoViz(\"https://decko048.github.io/dataset/data_produk.csv\")"
      ],
      "execution_count": null,
      "outputs": []
    },
    {
      "cell_type": "code",
      "metadata": {
        "id": "PYUSytghTwXw"
      },
      "source": [
        "df['JmlhWrna'].value_counts()"
      ],
      "execution_count": null,
      "outputs": []
    },
    {
      "cell_type": "code",
      "metadata": {
        "id": "Si7rVmIkT93g"
      },
      "source": [
        "sns.countplot(x = 'JmlhWrna',data = df)\n",
        "plt.show()"
      ],
      "execution_count": null,
      "outputs": []
    },
    {
      "cell_type": "code",
      "metadata": {
        "id": "QFT3g7lNUA9g"
      },
      "source": [
        "df['Jumlah'].value_counts()"
      ],
      "execution_count": null,
      "outputs": []
    },
    {
      "cell_type": "code",
      "metadata": {
        "id": "xjHHQ9DOUD5w"
      },
      "source": [
        "sns.countplot(x = 'Jumlah',data = df)\n",
        "plt.show()"
      ],
      "execution_count": null,
      "outputs": []
    },
    {
      "cell_type": "code",
      "metadata": {
        "id": "ii7bJDE3UF5x"
      },
      "source": [
        "df['NoJI'].value_counts()"
      ],
      "execution_count": null,
      "outputs": []
    },
    {
      "cell_type": "code",
      "metadata": {
        "id": "mKsswCkAUH7x"
      },
      "source": [
        "sns.countplot(x = 'NoJI',data = df)\n",
        "plt.show()"
      ],
      "execution_count": null,
      "outputs": []
    },
    {
      "cell_type": "code",
      "metadata": {
        "id": "8MSKz2f4UKjg"
      },
      "source": [
        "df['Mesin'].value_counts()"
      ],
      "execution_count": null,
      "outputs": []
    },
    {
      "cell_type": "code",
      "metadata": {
        "id": "v19AlQ8XUOmP"
      },
      "source": [
        "sns.countplot(x = 'NoJI',data = df)\n",
        "plt.show()"
      ],
      "execution_count": null,
      "outputs": []
    },
    {
      "cell_type": "code",
      "metadata": {
        "id": "cMGDS_6hUScB"
      },
      "source": [
        "sns.countplot(x = 'Mesin',data = df)\n",
        "plt.show()"
      ],
      "execution_count": null,
      "outputs": []
    },
    {
      "cell_type": "code",
      "metadata": {
        "id": "HSmBBS8JUUpG"
      },
      "source": [
        "sns.countplot(x = 'PaymentTier',data = df)\n",
        "plt.show()"
      ],
      "execution_count": null,
      "outputs": []
    },
    {
      "cell_type": "code",
      "metadata": {
        "id": "9VD8-WZbUX11"
      },
      "source": [
        "df['Gender'].value_counts()"
      ],
      "execution_count": null,
      "outputs": []
    },
    {
      "cell_type": "code",
      "metadata": {
        "id": "aPT0I9iRUZ22"
      },
      "source": [
        "sns.countplot(x = 'Gender',data = df)\n",
        "plt.show()"
      ],
      "execution_count": null,
      "outputs": []
    },
    {
      "cell_type": "code",
      "metadata": {
        "id": "6Qq4_RWoUbj2"
      },
      "source": [
        "# Male Employees are more in number\n",
        "df['EverBenched'].value_counts()"
      ],
      "execution_count": null,
      "outputs": []
    },
    {
      "cell_type": "code",
      "metadata": {
        "id": "k8iLTlcJUec1"
      },
      "source": [
        "sns.countplot(x = 'EverBenched',data = df)\n",
        "plt.show()"
      ],
      "execution_count": null,
      "outputs": []
    },
    {
      "cell_type": "code",
      "metadata": {
        "id": "9kN9Yp-fUkax"
      },
      "source": [
        "# Most of the Employees are not benched¶\n",
        "df['ExperienceInCurrentDomain'].value_counts()"
      ],
      "execution_count": null,
      "outputs": []
    },
    {
      "cell_type": "code",
      "metadata": {
        "id": "3Gywky4RUm9S"
      },
      "source": [
        "sns.countplot(x = 'ExperienceInCurrentDomain',data = df)\n",
        "plt.show()"
      ],
      "execution_count": null,
      "outputs": []
    },
    {
      "cell_type": "code",
      "metadata": {
        "id": "V8ihDMtiUu5i"
      },
      "source": [
        "df['LeaveOrNot'].value_counts()"
      ],
      "execution_count": null,
      "outputs": []
    },
    {
      "cell_type": "code",
      "metadata": {
        "id": "uuU9BzOVU1Fh"
      },
      "source": [
        "sns.countplot(x = 'LeaveOrNot',data = df)\n",
        "plt.show()"
      ],
      "execution_count": null,
      "outputs": []
    },
    {
      "cell_type": "code",
      "metadata": {
        "id": "zXh3jOULU2vy"
      },
      "source": [
        "# Most of the employess are not supposed to leave\n",
        "# Getting unique values of each category\n",
        "from IPython.core.display import HTML\n",
        "\n",
        "def multi_table(table_list):\n",
        "    ''' Acceps a list of IpyTable objects and returns a table which contains each IpyTable in a cell\n",
        "    '''\n",
        "    return HTML(\n",
        "        '<table><tr style=\"background-color:white;\">' + \n",
        "        ''.join(['<td>' + table._repr_html_() + '</td>' for table in table_list]) +\n",
        "        '</tr></table>')"
      ],
      "execution_count": null,
      "outputs": []
    },
    {
      "cell_type": "code",
      "metadata": {
        "id": "YeeKAJmuU_7y"
      },
      "source": [
        "df_nunique = {var: pd.DataFrame(df[var].value_counts()) \n",
        "              for var in {'Education', 'JoiningYear', 'City', 'PaymentTier', 'Gender',\n",
        "       'EverBenched', 'ExperienceInCurrentDomain', 'LeaveOrNot'}}\n",
        "multi_table([df_nunique['Education'], df_nunique['JoiningYear'],df_nunique['City']\n",
        "            ,df_nunique['PaymentTier'],df_nunique['Gender'],df_nunique['EverBenched'],\n",
        "             df_nunique['ExperienceInCurrentDomain'],df_nunique['LeaveOrNot']])"
      ],
      "execution_count": null,
      "outputs": []
    },
    {
      "cell_type": "code",
      "metadata": {
        "id": "sS-3UWy7VDqX"
      },
      "source": [
        "# grouped tables for categorical variables\n",
        "df_groupby = {var: pd.DataFrame(df.groupby([var, 'Age']).size()) \n",
        "              for var in {'Education', 'JoiningYear', 'City', 'PaymentTier', 'Gender',\n",
        "       'EverBenched', 'ExperienceInCurrentDomain', 'LeaveOrNot'}}\n",
        "multi_table([df_groupby['Education'], df_groupby['JoiningYear'],df_groupby['City']\n",
        "            ,df_groupby['PaymentTier'],df_groupby['Gender'],df_groupby['EverBenched'],\n",
        "             df_groupby['ExperienceInCurrentDomain'],df_groupby['LeaveOrNot']])"
      ],
      "execution_count": null,
      "outputs": []
    },
    {
      "cell_type": "code",
      "metadata": {
        "id": "acZZkGpOVJD2"
      },
      "source": [
        "plt.figure(figsize=(16,9))\n",
        "ax = sns.heatmap(df.corr(),annot = True,cmap = 'viridis')\n",
        "plt.show()"
      ],
      "execution_count": null,
      "outputs": []
    },
    {
      "cell_type": "code",
      "metadata": {
        "id": "Z6xbnQ4TVNhY"
      },
      "source": [
        "''' Plot a Shifted Correlation Matrix '''\n",
        "# Diagonal correlation is always unity & less relevant, shifted variant shows only relevant cases\n",
        "def corrMat(df,id=False):\n",
        "    \n",
        "    corr_mat = df.corr().round(2)\n",
        "    f, ax = plt.subplots(figsize=(12,7))\n",
        "    mask = np.triu(np.ones_like(corr_mat, dtype=bool))\n",
        "    mask = mask[1:,:-1]\n",
        "    corr = corr_mat.iloc[1:,:-1].copy()\n",
        "    sns.heatmap(corr,mask=mask,vmin=-0.3,vmax=0.3,center=0, \n",
        "                cmap='RdPu_r',square=False,lw=2,annot=True,cbar=False)\n",
        "#     bottom, top = ax.get_ylim() \n",
        "#     ax.set_ylim(bottom + 0.5, top - 0.5) \n",
        "    ax.set_title('Shifted Linear Correlation Matrix')\n",
        "    \n",
        "corrMat(df.drop(['Education','City','EverBenched','Gender'],axis = 1))"
      ],
      "execution_count": null,
      "outputs": []
    },
    {
      "cell_type": "code",
      "metadata": {
        "id": "ccZABfx3VQUR"
      },
      "source": [
        "'''Plot Correlation to Target Variable only'''\n",
        "def corrMat2(df,target='LeaveOrNot',figsize=(9,0.5),ret_id=False):\n",
        "    \n",
        "    corr_mat = df.corr().round(2);shape = corr_mat.shape[0]\n",
        "    corr_mat = corr_mat.transpose()\n",
        "    corr = corr_mat.loc[:, df.columns == target].transpose().copy()\n",
        "    if(ret_id is False):\n",
        "        f, ax = plt.subplots(figsize=figsize)\n",
        "        sns.heatmap(corr,vmin=-0.3,vmax=0.3,center=0, \n",
        "                     cmap='RdPu_r',square=False,lw=2,annot=True,cbar=False)\n",
        "        plt.title(f'Feature Correlation to {target}')\n",
        "    if(ret_id):\n",
        "        return corr\n",
        "corrMat2(df.drop(['Education','City','EverBenched','Gender'],axis = 1))"
      ],
      "execution_count": null,
      "outputs": []
    },
    {
      "cell_type": "code",
      "metadata": {
        "id": "Rkq_VJvMVSYy"
      },
      "source": [
        "# pairlot of all numerical columns with LeaveOrNot as hue\n",
        "''' Draw a Bivariate Seaborn Pairgrid /w KDE density w/ '''\n",
        "def snsPairGrid(df):\n",
        "\n",
        "    ''' Plots a Seaborn Pairgrid w/ KDE & scatter plot of df features'''\n",
        "    g = sns.PairGrid(df,diag_sharey=False,hue='LeaveOrNot',palette='Purples')\n",
        "    g.fig.set_size_inches(13,13)\n",
        "    g.map_upper(sns.kdeplot,n_levels=5)\n",
        "    g.map_diag(sns.kdeplot, lw=2)\n",
        "    g.map_lower(sns.scatterplot,s=20,edgecolor=\"k\",linewidth=1,alpha=0.6)\n",
        "    g.add_legend()\n",
        "    plt.tight_layout()\n",
        "numvars_targ = ['JoiningYear','PaymentTier','Age','ExperienceInCurrentDomain','LeaveOrNot']\n",
        "snsPairGrid(df[numvars_targ])"
      ],
      "execution_count": null,
      "outputs": []
    },
    {
      "cell_type": "code",
      "metadata": {
        "id": "Bqbs9pUWVWqC"
      },
      "source": [
        "''' Draw a Bivariate Seaborn Pairgrid /w KDE density w/ '''\n",
        "def snsPairGrid(df):\n",
        "\n",
        "    ''' Plots a Seaborn Pairgrid w/ KDE & scatter plot of df features'''\n",
        "    g = sns.PairGrid(df,diag_sharey=False,hue='City',palette='Purples')\n",
        "    g.fig.set_size_inches(13,13)\n",
        "    g.map_upper(sns.kdeplot,n_levels=5)\n",
        "    g.map_diag(sns.kdeplot, lw=2)\n",
        "    g.map_lower(sns.scatterplot,s=20,edgecolor=\"k\",linewidth=1,alpha=0.6)\n",
        "    g.add_legend()\n",
        "    plt.tight_layout()\n",
        "numvars_targ = ['JoiningYear','PaymentTier','Age','ExperienceInCurrentDomain','LeaveOrNot','City']\n",
        "snsPairGrid(df[numvars_targ])"
      ],
      "execution_count": null,
      "outputs": []
    },
    {
      "cell_type": "code",
      "metadata": {
        "id": "WISNptGXjiUP"
      },
      "source": [
        "''' Draw a Bivariate Seaborn Pairgrid /w KDE density w/ '''\n",
        "def snsPairGrid(df):\n",
        "\n",
        "    ''' Plots a Seaborn Pairgrid w/ KDE & scatter plot of df features'''\n",
        "    g = sns.PairGrid(df,diag_sharey=False,hue='Education',palette='Purples')\n",
        "    g.fig.set_size_inches(13,13)\n",
        "    g.map_upper(sns.kdeplot,n_levels=5)\n",
        "    g.map_diag(sns.kdeplot, lw=2)\n",
        "    g.map_lower(sns.scatterplot,s=20,edgecolor=\"k\",linewidth=1,alpha=0.6)\n",
        "    g.add_legend()\n",
        "    plt.tight_layout()\n",
        "numvars_targ = ['JoiningYear','PaymentTier','Age','ExperienceInCurrentDomain','LeaveOrNot','Education']\n",
        "snsPairGrid(df[numvars_targ])"
      ],
      "execution_count": null,
      "outputs": []
    },
    {
      "cell_type": "code",
      "metadata": {
        "id": "mEkGY1gBwieh"
      },
      "source": [
        "''' Draw a Bivariate Seaborn Pairgrid /w KDE density w/ '''\n",
        "def snsPairGrid(df):\n",
        "\n",
        "    ''' Plots a Seaborn Pairgrid w/ KDE & scatter plot of df features'''\n",
        "    g = sns.PairGrid(df,diag_sharey=False,hue='EverBenched',palette='Purples')\n",
        "    g.fig.set_size_inches(13,13)\n",
        "    g.map_upper(sns.kdeplot,n_levels=5)\n",
        "    g.map_diag(sns.kdeplot, lw=2)\n",
        "    g.map_lower(sns.scatterplot,s=20,edgecolor=\"k\",linewidth=1,alpha=0.6)\n",
        "    g.add_legend()\n",
        "    plt.tight_layout()\n",
        "numvars_targ = ['JoiningYear','PaymentTier','Age','EverBenched','ExperienceInCurrentDomain','LeaveOrNot']\n",
        "snsPairGrid(df[numvars_targ])"
      ],
      "execution_count": null,
      "outputs": []
    },
    {
      "cell_type": "code",
      "metadata": {
        "id": "GeL1a6vswnAx"
      },
      "source": [
        "# Solving Queries with and without graphs\n",
        "# Query 1: Find all the Employess details With education as Bachelors\n",
        "df_B =df[df['Education'] == 'Bachelors']\n",
        "df_B\n",
        "# data frame contains all information of Employees who did Bachelors Degree"
      ],
      "execution_count": null,
      "outputs": []
    },
    {
      "cell_type": "code",
      "metadata": {
        "id": "l4v_qm7bwy-B"
      },
      "source": [
        "# Visualisation Related to Query 1\n",
        "df_B.corr()"
      ],
      "execution_count": null,
      "outputs": []
    },
    {
      "cell_type": "code",
      "metadata": {
        "id": "sfCVkIGkw1gi"
      },
      "source": [
        "df_B.describe()"
      ],
      "execution_count": null,
      "outputs": []
    },
    {
      "cell_type": "code",
      "metadata": {
        "id": "YfMIs1iww4eh"
      },
      "source": [
        "df_nunique = {var: pd.DataFrame(df_B[var].value_counts()) \n",
        "              for var in {'Education', 'JoiningYear', 'City', 'PaymentTier', 'Gender',\n",
        "       'EverBenched', 'ExperienceInCurrentDomain', 'LeaveOrNot'}}\n",
        "multi_table([df_nunique['Education'], df_nunique['JoiningYear'],df_nunique['City']\n",
        "            ,df_nunique['PaymentTier'],df_nunique['Gender'],df_nunique['EverBenched'],\n",
        "             df_nunique['ExperienceInCurrentDomain'],df_nunique['LeaveOrNot']])"
      ],
      "execution_count": null,
      "outputs": []
    },
    {
      "cell_type": "code",
      "metadata": {
        "id": "iD5KwbVOxB9B"
      },
      "source": [
        "fig = px.histogram(data_frame = df_B,\n",
        "             x = \"City\",\n",
        "             color=\"JoiningYear\", title=\"<b>Analysis of City with JoiningYear</b>\",\n",
        "             #pattern_shape_sequence=['x'], \n",
        "             template='plotly_dark')\n",
        "\n",
        "fig.show()"
      ],
      "execution_count": null,
      "outputs": []
    },
    {
      "cell_type": "code",
      "metadata": {
        "id": "0ixBnObXxCtQ"
      },
      "source": [
        "# Query 2: Find Employee Details with Bachelors Degree from Banglore and in which year employees joined more\n",
        "df_B_Bangalore = df_B[df_B['City'] == 'Bangalore']\n",
        "df_B_Bangalore"
      ],
      "execution_count": null,
      "outputs": []
    },
    {
      "cell_type": "code",
      "metadata": {
        "id": "jnNuc2qzxIno"
      },
      "source": [
        "df_nunique = {var: pd.DataFrame(df_B_Bangalore[var].value_counts()) \n",
        "              for var in {'Education', 'JoiningYear', 'City'}}\n",
        "multi_table([df_nunique['Education'], df_nunique['JoiningYear'],df_nunique['City']])"
      ],
      "execution_count": null,
      "outputs": []
    },
    {
      "cell_type": "code",
      "metadata": {
        "id": "JpYgsxoqx0ox"
      },
      "source": [
        "# Query 3: Find Employee Details with Bachelors Degree from New Delhi and in which year employees joined more\n",
        "df_B_NewDelhi = df_B[df_B['City'] == 'New Delhi']\n",
        "df_B_NewDelhi"
      ],
      "execution_count": null,
      "outputs": []
    },
    {
      "cell_type": "code",
      "metadata": {
        "id": "dZGpGqSxx5gB"
      },
      "source": [
        "df_nunique = {var: pd.DataFrame(df_B_NewDelhi[var].value_counts()) \n",
        "              for var in {'Education', 'JoiningYear', 'City'}}\n",
        "multi_table([df_nunique['Education'], df_nunique['JoiningYear'],df_nunique['City']])"
      ],
      "execution_count": null,
      "outputs": []
    },
    {
      "cell_type": "code",
      "metadata": {
        "id": "ojRc5hDax8ER"
      },
      "source": [
        "# Query 4: Find Employee Details with Bachelors Degree from Pune and in which year employees joined more\n",
        "df_B_Pune = df_B[df_B['City'] == 'Pune']\n",
        "df_B_Pune"
      ],
      "execution_count": null,
      "outputs": []
    },
    {
      "cell_type": "code",
      "metadata": {
        "id": "1sMZDVnIyAAC"
      },
      "source": [
        "df_nunique = {var: pd.DataFrame(df_B_Pune[var].value_counts()) \n",
        "              for var in {'Education', 'JoiningYear', 'City'}}\n",
        "multi_table([df_nunique['Education'], df_nunique['JoiningYear'],df_nunique['City']])"
      ],
      "execution_count": null,
      "outputs": []
    },
    {
      "cell_type": "code",
      "metadata": {
        "id": "hznAb_fsyCIr"
      },
      "source": [
        "fig = px.histogram(data_frame = df_B,\n",
        "             x = \"City\",\n",
        "             color=\"PaymentTier\", title=\"<b>Analysis of City with PaymentTier</b>\",\n",
        "             #pattern_shape_sequence=['x'],\n",
        "             template='plotly_dark')\n",
        "\n",
        "fig.show()"
      ],
      "execution_count": null,
      "outputs": []
    },
    {
      "cell_type": "code",
      "metadata": {
        "id": "BTl51yOYyEeh"
      },
      "source": [
        "# Query 5: Find Employee Details with Bachelors Degree from Bangalore and their PaymentTier\n",
        "df_nunique = {var: pd.DataFrame(df_B_Bangalore[var].value_counts()) \n",
        "              for var in {'Education', 'PaymentTier', 'City'}}\n",
        "multi_table([df_nunique['Education'], df_nunique['PaymentTier'],df_nunique['City']])"
      ],
      "execution_count": null,
      "outputs": []
    },
    {
      "cell_type": "code",
      "metadata": {
        "id": "R8_jfe1PyMrw"
      },
      "source": [
        "# Query 6: Find Employee Details with Bachelors Degree from New Delhi and their PaymentTier\n",
        "df_nunique = {var: pd.DataFrame(df_B_NewDelhi[var].value_counts()) \n",
        "              for var in {'Education', 'PaymentTier', 'City'}}\n",
        "multi_table([df_nunique['Education'], df_nunique['PaymentTier'],df_nunique['City']])"
      ],
      "execution_count": null,
      "outputs": []
    },
    {
      "cell_type": "code",
      "metadata": {
        "id": "bKhsbeJAyRQi"
      },
      "source": [
        "# Query 7: Find Employee Details with Bachelors Degree from pune and their PaymentTier\n",
        "df_nunique = {var: pd.DataFrame(df_B_Pune[var].value_counts()) \n",
        "              for var in {'Education', 'PaymentTier', 'City'}}\n",
        "multi_table([df_nunique['Education'], df_nunique['PaymentTier'],df_nunique['City']])"
      ],
      "execution_count": null,
      "outputs": []
    },
    {
      "cell_type": "code",
      "metadata": {
        "id": "ZrYbsvQHyVNx"
      },
      "source": [
        "fig = px.histogram(data_frame = df_B,\n",
        "             x = \"City\",\n",
        "             color=\"Gender\", title=\"<b>Analysis of City with Gender</b>\",\n",
        "             #pattern_shape_sequence=['x'],\n",
        "             template='plotly_dark')\n",
        "\n",
        "fig.show()"
      ],
      "execution_count": null,
      "outputs": []
    },
    {
      "cell_type": "code",
      "metadata": {
        "id": "pGNLYZD8yX2x"
      },
      "source": [
        "# Query 8: Find Employee Details with Bachelors Degree from bangalore and their gender details\n",
        "df_nunique = {var: pd.DataFrame(df_B_Bangalore[var].value_counts()) \n",
        "              for var in {'Education', 'Gender', 'City'}}\n",
        "multi_table([df_nunique['Education'], df_nunique['Gender'],df_nunique['City']])"
      ],
      "execution_count": null,
      "outputs": []
    },
    {
      "cell_type": "code",
      "metadata": {
        "id": "D_895eOxycvi"
      },
      "source": [
        "# Query 9: Find Employee Details with Bachelors Degree from Newdelhi and their gender details\n",
        "df_nunique = {var: pd.DataFrame(df_B_NewDelhi[var].value_counts()) \n",
        "              for var in {'Education', 'Gender', 'City'}}\n",
        "multi_table([df_nunique['Education'], df_nunique['Gender'],df_nunique['City']])"
      ],
      "execution_count": null,
      "outputs": []
    },
    {
      "cell_type": "code",
      "metadata": {
        "id": "524QLAwyyhBR"
      },
      "source": [
        "# Query 10: Find Employee Details with Bachelors Degree from pune and their gender details\n",
        "df_nunique = {var: pd.DataFrame(df_B_Pune[var].value_counts()) \n",
        "              for var in {'Education', 'Gender', 'City'}}\n",
        "multi_table([df_nunique['Education'], df_nunique['Gender'],df_nunique['City']])"
      ],
      "execution_count": null,
      "outputs": []
    },
    {
      "cell_type": "code",
      "metadata": {
        "id": "SKbsY2G1ylQy"
      },
      "source": [
        "fig = px.histogram(data_frame = df_B,\n",
        "             x = \"City\",\n",
        "             color=\"EverBenched\", title=\"<b>Analysis of City with EverBenched</b>\",\n",
        "             #pattern_shape_sequence=['x'],\n",
        "             template='plotly_dark')\n",
        "\n",
        "fig.show()"
      ],
      "execution_count": null,
      "outputs": []
    },
    {
      "cell_type": "code",
      "metadata": {
        "id": "5rbkmDxUynxi"
      },
      "source": [
        "# Query 11: Find Employee Details with Bachelors Degree from bangalore and their EverBenched details\n",
        "df_nunique = {var: pd.DataFrame(df_B_Bangalore[var].value_counts()) \n",
        "              for var in {'Education', 'EverBenched', 'City'}}\n",
        "multi_table([df_nunique['Education'], df_nunique['EverBenched'],df_nunique['City']])"
      ],
      "execution_count": null,
      "outputs": []
    },
    {
      "cell_type": "code",
      "metadata": {
        "id": "CnroVrKBysWB"
      },
      "source": [
        "# Query 12: Find Employee Details with Bachelors Degree from New Delhi and their EverBenched details\n",
        "df_nunique = {var: pd.DataFrame(df_B_NewDelhi[var].value_counts()) \n",
        "              for var in {'Education', 'EverBenched', 'City'}}\n",
        "multi_table([df_nunique['Education'], df_nunique['EverBenched'],df_nunique['City']])"
      ],
      "execution_count": null,
      "outputs": []
    },
    {
      "cell_type": "code",
      "metadata": {
        "id": "WnP4nRheyzKx"
      },
      "source": [
        "# Query 13: Find Employee Details with Bachelors Degree from pune and their EverBenched details\n",
        "df_nunique = {var: pd.DataFrame(df_B_Pune[var].value_counts()) \n",
        "              for var in {'Education', 'EverBenched', 'City'}}\n",
        "multi_table([df_nunique['Education'], df_nunique['EverBenched'],df_nunique['City']])"
      ],
      "execution_count": null,
      "outputs": []
    },
    {
      "cell_type": "code",
      "metadata": {
        "id": "ERnBVBvOy3VB"
      },
      "source": [
        "fig = px.histogram(data_frame = df_B,\n",
        "             x = \"City\",\n",
        "             color=\"ExperienceInCurrentDomain\", title=\"<b>Analysis of City with ExperienceInCurrentDomain</b>\",\n",
        "             #pattern_shape_sequence=['x'],\n",
        "             template='plotly_dark')\n",
        "\n",
        "fig.show()"
      ],
      "execution_count": null,
      "outputs": []
    },
    {
      "cell_type": "code",
      "metadata": {
        "id": "8j72Q2-ay56w"
      },
      "source": [
        "# Query 14: Find Employee Details with Bachelors Degree from bangalore and their Experience in current domain details\n",
        "df_nunique = {var: pd.DataFrame(df_B_Bangalore[var].value_counts()) \n",
        "              for var in {'Education', 'ExperienceInCurrentDomain', 'City'}}\n",
        "multi_table([df_nunique['Education'], df_nunique['ExperienceInCurrentDomain'],df_nunique['City']])"
      ],
      "execution_count": null,
      "outputs": []
    },
    {
      "cell_type": "code",
      "metadata": {
        "id": "jBffAc5Yy_Dx"
      },
      "source": [
        "# Query 15: Find Employee Details with Bachelors Degree from New Delhi and their Experience in current domain details\n",
        "df_nunique = {var: pd.DataFrame(df_B_NewDelhi[var].value_counts()) \n",
        "              for var in {'Education', 'ExperienceInCurrentDomain', 'City'}}\n",
        "multi_table([df_nunique['Education'], df_nunique['ExperienceInCurrentDomain'],df_nunique['City']])"
      ],
      "execution_count": null,
      "outputs": []
    },
    {
      "cell_type": "code",
      "metadata": {
        "id": "lZhN0ETHzDPx"
      },
      "source": [
        "# Query 16: Find Employee Details with Bachelors Degree from pune and their Experience in current domain details\n",
        "df_nunique = {var: pd.DataFrame(df_B_Pune[var].value_counts()) \n",
        "              for var in {'Education', 'ExperienceInCurrentDomain', 'City'}}\n",
        "multi_table([df_nunique['Education'], df_nunique['ExperienceInCurrentDomain'],df_nunique['City']])"
      ],
      "execution_count": null,
      "outputs": []
    },
    {
      "cell_type": "code",
      "metadata": {
        "id": "HZWz2KlozH_w"
      },
      "source": [
        "fig = px.histogram(data_frame = df_B,\n",
        "             x = \"City\",\n",
        "             color=\"LeaveOrNot\", title=\"<b>Analysis of City with LeaveOrNot</b>\",\n",
        "             #pattern_shape_sequence=['x'],\n",
        "             template='plotly_dark')\n",
        "\n",
        "fig.show()"
      ],
      "execution_count": null,
      "outputs": []
    },
    {
      "cell_type": "code",
      "metadata": {
        "id": "oLbHlSw3zNIB"
      },
      "source": [
        "# Query 17: Find Employee Details with Bachelors Degree from bangalore and their LeaveorNot details\n",
        "df_nunique = {var: pd.DataFrame(df_B_Bangalore[var].value_counts()) \n",
        "              for var in {'Education', 'LeaveOrNot', 'City'}}\n",
        "multi_table([df_nunique['Education'], df_nunique['LeaveOrNot'],df_nunique['City']])"
      ],
      "execution_count": null,
      "outputs": []
    },
    {
      "cell_type": "code",
      "metadata": {
        "id": "OATtkrOizTIx"
      },
      "source": [
        "# Query 18: Find Employee Details with Bachelors Degree from NewDelhi and their LeaveorNot details\n",
        "df_nunique = {var: pd.DataFrame(df_B_NewDelhi[var].value_counts()) \n",
        "              for var in {'Education', 'LeaveOrNot', 'City'}}\n",
        "multi_table([df_nunique['Education'], df_nunique['LeaveOrNot'],df_nunique['City']])"
      ],
      "execution_count": null,
      "outputs": []
    },
    {
      "cell_type": "code",
      "metadata": {
        "id": "vDncX3OrzXKx"
      },
      "source": [
        "# Query 19: Find Employee Details with Bachelors Degree from NewDelhi and their LeaveorNot details\n",
        "df_nunique = {var: pd.DataFrame(df_B_Pune[var].value_counts()) \n",
        "              for var in {'Education', 'LeaveOrNot', 'City'}}\n",
        "multi_table([df_nunique['Education'], df_nunique['LeaveOrNot'],df_nunique['City']])"
      ],
      "execution_count": null,
      "outputs": []
    },
    {
      "cell_type": "code",
      "metadata": {
        "id": "iUKTacp9zbVx"
      },
      "source": [
        "fig = px.histogram(data_frame = df_B,\n",
        "             x = \"JoiningYear\",\n",
        "             color=\"PaymentTier\", title=\"<b>Analysis of JoiningYear with PayementTier</b>\",\n",
        "             #pattern_shape_sequence=['x'],\n",
        "             template='plotly_dark')\n",
        "fig.update_layout(bargap=0.2)\n",
        "\n",
        "fig.show()"
      ],
      "execution_count": null,
      "outputs": []
    },
    {
      "cell_type": "code",
      "metadata": {
        "id": "l9Sc84ShzeBx"
      },
      "source": [
        "# Query 20: Find Employee Details with Bachelors Degree from their joining year and PaymentTier\n",
        "df_nunique = {var: pd.DataFrame(df_B[var].value_counts()) \n",
        "              for var in {'Education', 'PaymentTier', 'JoiningYear'}}\n",
        "multi_table([df_nunique['Education'], df_nunique['PaymentTier'],df_nunique['JoiningYear']]) "
      ],
      "execution_count": null,
      "outputs": []
    },
    {
      "cell_type": "code",
      "metadata": {
        "id": "DPHpC0IUzkAR"
      },
      "source": [
        "df_groupby = {var: pd.DataFrame(df_B.groupby([var, 'JoiningYear']).size()) \n",
        "              for var in {'Education', 'PaymentTier'}}\n",
        "multi_table([df_groupby['Education'], df_groupby['PaymentTier']])"
      ],
      "execution_count": null,
      "outputs": []
    },
    {
      "cell_type": "code",
      "metadata": {
        "id": "fB7377ehzmbB"
      },
      "source": [
        "fig = px.histogram(data_frame = df_B,\n",
        "             x = \"JoiningYear\",\n",
        "             color=\"City\", title=\"<b>Analysis of JoiningYear with City</b>\",\n",
        "             #pattern_shape_sequence=['x'],\n",
        "             template='plotly_dark')\n",
        "fig.update_layout(bargap=0.2)\n",
        "\n",
        "fig.show()"
      ],
      "execution_count": null,
      "outputs": []
    },
    {
      "cell_type": "code",
      "metadata": {
        "id": "TfPZGL4-zpiS"
      },
      "source": [
        "# Query 21: Find Employee Details with Bachelors Degree from their joining year and city\n",
        "df_nunique = {var: pd.DataFrame(df_B[var].value_counts()) \n",
        "              for var in {'Education', 'City', 'JoiningYear'}}\n",
        "multi_table([df_nunique['Education'], df_nunique['City'],df_nunique['JoiningYear']]) "
      ],
      "execution_count": null,
      "outputs": []
    },
    {
      "cell_type": "code",
      "metadata": {
        "id": "imwwnbLJzvRw"
      },
      "source": [
        "df_groupby = {var: pd.DataFrame(df_B.groupby([var, 'JoiningYear']).size()) \n",
        "              for var in {'Education', 'City'}}\n",
        "multi_table([df_groupby['Education'], df_groupby['City']])"
      ],
      "execution_count": null,
      "outputs": []
    },
    {
      "cell_type": "code",
      "metadata": {
        "id": "ezgtrtFHzxMA"
      },
      "source": [
        "fig = px.histogram(data_frame = df_B,\n",
        "             x = \"JoiningYear\",\n",
        "             color=\"Gender\", title=\"<b>Analysis of JoiningYear with Gender</b>\",\n",
        "             #pattern_shape_sequence=['x'],\n",
        "             template='plotly_dark')\n",
        "fig.update_layout(bargap=0.2)\n",
        "\n",
        "fig.show()"
      ],
      "execution_count": null,
      "outputs": []
    },
    {
      "cell_type": "code",
      "metadata": {
        "id": "0wKZJquTzzp_"
      },
      "source": [
        "# Query 22: Find Employee Details with Bachelors Degree from their joining year and Gender\n",
        "df_nunique = {var: pd.DataFrame(df_B[var].value_counts()) \n",
        "              for var in {'Education', 'Gender', 'JoiningYear'}}\n",
        "multi_table([df_nunique['Education'], df_nunique['Gender'],df_nunique['JoiningYear']]) "
      ],
      "execution_count": null,
      "outputs": []
    },
    {
      "cell_type": "code",
      "metadata": {
        "id": "UQRWF3Fjz3-A"
      },
      "source": [
        "df_groupby = {var: pd.DataFrame(df_B.groupby([var, 'JoiningYear']).size()) \n",
        "              for var in {'Education', 'Gender'}}\n",
        "multi_table([df_groupby['Education'], df_groupby['Gender']])"
      ],
      "execution_count": null,
      "outputs": []
    },
    {
      "cell_type": "code",
      "metadata": {
        "id": "-ROJOdu5z6Og"
      },
      "source": [
        "fig = px.histogram(data_frame = df_B,\n",
        "             x = \"JoiningYear\",\n",
        "             color=\"EverBenched\", title=\"<b>Analysis of JoiningYear with EverBenched</b>\",\n",
        "             #pattern_shape_sequence=['x'],\n",
        "             template='plotly_dark')\n",
        "fig.update_layout(bargap=0.2)\n",
        "\n",
        "fig.show()"
      ],
      "execution_count": null,
      "outputs": []
    },
    {
      "cell_type": "code",
      "metadata": {
        "id": "PjqnBGpvz9Vg"
      },
      "source": [
        "# Query 23: Find Employee Details with Bachelors Degree from their joining year and Ever Benched\n",
        "df_nunique = {var: pd.DataFrame(df_B[var].value_counts()) \n",
        "              for var in {'Education', 'EverBenched', 'JoiningYear'}}\n",
        "multi_table([df_nunique['Education'], df_nunique['EverBenched'],df_nunique['JoiningYear']]) "
      ],
      "execution_count": null,
      "outputs": []
    },
    {
      "cell_type": "code",
      "metadata": {
        "id": "wzu4elnH0DXQ"
      },
      "source": [
        "df_groupby = {var: pd.DataFrame(df_B.groupby([var, 'JoiningYear']).size()) \n",
        "              for var in {'Education', 'EverBenched'}}\n",
        "multi_table([df_groupby['Education'], df_groupby['EverBenched']])"
      ],
      "execution_count": null,
      "outputs": []
    },
    {
      "cell_type": "code",
      "metadata": {
        "id": "8MOkpoDX0FoQ"
      },
      "source": [
        "fig = px.histogram(data_frame = df_B,\n",
        "             x = \"JoiningYear\",\n",
        "             color=\"LeaveOrNot\", title=\"<b>Analysis of JoiningYear with LeaveOrNot</b>\",\n",
        "             #pattern_shape_sequence=['x'],\n",
        "             template='plotly_dark')\n",
        "fig.update_layout(bargap=0.2)\n",
        "\n",
        "fig.show()"
      ],
      "execution_count": null,
      "outputs": []
    },
    {
      "cell_type": "code",
      "metadata": {
        "id": "CEzt7RVk0IuT"
      },
      "source": [
        "# Query 24: Find Employee Details with Bachelors Degree from their joining year and LeaveOrNot\n",
        "df_groupby = {var: pd.DataFrame(df_B.groupby([var, 'JoiningYear']).size()) \n",
        "              for var in {'Education', 'LeaveOrNot'}}\n",
        "multi_table([df_groupby['Education'], df_groupby['LeaveOrNot']])"
      ],
      "execution_count": null,
      "outputs": []
    },
    {
      "cell_type": "code",
      "metadata": {
        "id": "33x5nETh0NUx"
      },
      "source": [
        "fig = px.histogram(data_frame = df_B,\n",
        "             x = \"PaymentTier\",\n",
        "             color=\"Gender\", title=\"<b>Analysis of PaymentTier with Gender</b>\",\n",
        "             #pattern_shape_sequence=['x'],\n",
        "             template='plotly_dark')\n",
        "fig.update_layout(bargap=0.2)\n",
        "\n",
        "fig.show()"
      ],
      "execution_count": null,
      "outputs": []
    },
    {
      "cell_type": "code",
      "metadata": {
        "id": "Oec92aq00QCv"
      },
      "source": [
        "# Query 25: Find Employee Details with Bachelors Degree from their PaymentTier year and Gender\n",
        "df_groupby = {var: pd.DataFrame(df_B.groupby([var, 'PaymentTier']).size()) \n",
        "              for var in {'Education', 'Gender'}}\n",
        "multi_table([df_groupby['Education'], df_groupby['Gender']])"
      ],
      "execution_count": null,
      "outputs": []
    },
    {
      "cell_type": "code",
      "metadata": {
        "id": "xubXqaWl0U_Q"
      },
      "source": [
        "fig = px.histogram(data_frame = df_B,\n",
        "             x = \"PaymentTier\",\n",
        "             color=\"EverBenched\", title=\"<b>Analysis of PaymentTier with EverBenched</b>\",\n",
        "             #pattern_shape_sequence=['x'],\n",
        "             template='plotly_dark')\n",
        "fig.update_layout(bargap=0.2)\n",
        "\n",
        "fig.show()"
      ],
      "execution_count": null,
      "outputs": []
    },
    {
      "cell_type": "code",
      "metadata": {
        "id": "oNMc49Xh0XaA"
      },
      "source": [
        "# Query 26: Find Employee Details with Bachelors Degree from their PaymentTier year and EverBenched\n",
        "df_groupby = {var: pd.DataFrame(df_B.groupby([var, 'PaymentTier']).size()) \n",
        "              for var in {'Education', 'EverBenched'}}\n",
        "multi_table([df_groupby['Education'], df_groupby['EverBenched']])"
      ],
      "execution_count": null,
      "outputs": []
    },
    {
      "cell_type": "code",
      "metadata": {
        "id": "n-dzC90W09vA"
      },
      "source": [
        "fig = px.histogram(data_frame = df_B,\n",
        "             x = \"PaymentTier\",\n",
        "             color=\"ExperienceInCurrentDomain\", title=\"<b>Analysis of PaymentTier with ExperienceInCurrentDomain</b>\",\n",
        "             #pattern_shape_sequence=['x'],\n",
        "             template='plotly_dark')\n",
        "fig.update_layout(bargap=0.2)\n",
        "\n",
        "fig.show()"
      ],
      "execution_count": null,
      "outputs": []
    },
    {
      "cell_type": "code",
      "metadata": {
        "id": "1lymvJoB1AAg"
      },
      "source": [
        "# Query 27: Find Employee Details with Bachelors Degree from their PaymentTier year and Experience in current domain\n",
        "df_groupby = {var: pd.DataFrame(df_B.groupby([var, 'PaymentTier']).size()) \n",
        "              for var in {'Education', 'ExperienceInCurrentDomain'}}\n",
        "multi_table([df_groupby['Education'], df_groupby['ExperienceInCurrentDomain']])"
      ],
      "execution_count": null,
      "outputs": []
    },
    {
      "cell_type": "code",
      "metadata": {
        "id": "wFUxGPji1Elg"
      },
      "source": [
        "fig = px.histogram(data_frame = df_B,\n",
        "             x = \"PaymentTier\",\n",
        "             color=\"LeaveOrNot\", title=\"<b>Analysis of PaymentTier with LeaveOrNot</b>\",\n",
        "             #pattern_shape_sequence=['x'],\n",
        "             template='plotly_dark')\n",
        "fig.update_layout(bargap=0.2)\n",
        "\n",
        "fig.show()"
      ],
      "execution_count": null,
      "outputs": []
    },
    {
      "cell_type": "code",
      "metadata": {
        "id": "Sx5SIj5s1HFw"
      },
      "source": [
        "# Query 28: Find Employee Details with Bachelors Degree from their PaymentTier year and leaveor not\n",
        "df_groupby = {var: pd.DataFrame(df_B.groupby([var, 'PaymentTier']).size()) \n",
        "              for var in {'Education', 'LeaveOrNot'}}\n",
        "multi_table([df_groupby['Education'], df_groupby['LeaveOrNot']])"
      ],
      "execution_count": null,
      "outputs": []
    },
    {
      "cell_type": "code",
      "metadata": {
        "id": "exK3LQSw1LuQ"
      },
      "source": [
        "fig = px.histogram(data_frame = df_B,\n",
        "             x = \"Gender\",\n",
        "             color=\"EverBenched\", title=\"<b>Analysis of Gender with EverBenched</b>\",\n",
        "             #pattern_shape_sequence=['x'],\n",
        "             template='plotly_dark')\n",
        "fig.update_layout(bargap=0.2)\n",
        "\n",
        "fig.show()"
      ],
      "execution_count": null,
      "outputs": []
    },
    {
      "cell_type": "code",
      "metadata": {
        "id": "P8BEQtvf1QLv"
      },
      "source": [
        "# Query 29: Find Employee Details with Bachelors Degree from their gender and EverBenched\n",
        "df_groupby = {var: pd.DataFrame(df_B.groupby([var, 'Gender']).size()) \n",
        "              for var in {'Education', 'EverBenched'}}\n",
        "multi_table([df_groupby['Education'], df_groupby['EverBenched']])"
      ],
      "execution_count": null,
      "outputs": []
    },
    {
      "cell_type": "code",
      "metadata": {
        "id": "pd_6FWRy1V7w"
      },
      "source": [
        "fig = px.histogram(data_frame = df_B,\n",
        "             x = \"Gender\",\n",
        "             color=\"ExperienceInCurrentDomain\", title=\"<b>Analysis of Gender with ExperienceInCurrentDomain</b>\",\n",
        "             #pattern_shape_sequence=['x'],\n",
        "             template='plotly_dark')\n",
        "fig.update_layout(bargap=0.2)\n",
        "\n",
        "fig.show()"
      ],
      "execution_count": null,
      "outputs": []
    },
    {
      "cell_type": "code",
      "metadata": {
        "id": "DUKHOHdl1ZoA"
      },
      "source": [
        "# Query 30: Find Employee Details with Bachelors Degree from their gender and ExperienceInCurrentDomain\n",
        "df_groupby = {var: pd.DataFrame(df_B.groupby([var, 'Gender']).size()) \n",
        "              for var in {'Education', 'ExperienceInCurrentDomain'}}\n",
        "multi_table([df_groupby['Education'], df_groupby['ExperienceInCurrentDomain']])"
      ],
      "execution_count": null,
      "outputs": []
    },
    {
      "cell_type": "code",
      "metadata": {
        "id": "Z-D3GgrU1gOw"
      },
      "source": [
        "fig = px.histogram(data_frame = df_B,\n",
        "             x = \"Gender\",\n",
        "             color=\"LeaveOrNot\", title=\"<b>Analysis of Gender with LeaveOrNot</b>\",\n",
        "             #pattern_shape_sequence=['x'],\n",
        "             template='plotly_dark')\n",
        "fig.update_layout(bargap=0.2)\n",
        "\n",
        "fig.show()"
      ],
      "execution_count": null,
      "outputs": []
    },
    {
      "cell_type": "code",
      "metadata": {
        "id": "Sp2LrXo_1kf_"
      },
      "source": [
        "# Query 31: Find Employee Details with Bachelors Degree from their gender and leaveornot\n",
        "df_groupby = {var: pd.DataFrame(df_B.groupby([var, 'Gender']).size()) \n",
        "              for var in {'Education', 'LeaveOrNot'}}\n",
        "multi_table([df_groupby['Education'], df_groupby['LeaveOrNot']])"
      ],
      "execution_count": null,
      "outputs": []
    },
    {
      "cell_type": "code",
      "metadata": {
        "id": "cKc6GM1q1p6Q"
      },
      "source": [
        "fig = px.histogram(data_frame = df_B,\n",
        "             x = \"EverBenched\",\n",
        "             color=\"LeaveOrNot\", title=\"<b>Analysis of EverBenched with LeaveOrNot</b>\",\n",
        "             #pattern_shape_sequence=['x'],\n",
        "             template='plotly_dark')\n",
        "fig.update_layout(bargap=0.2)\n",
        "\n",
        "fig.show()"
      ],
      "execution_count": null,
      "outputs": []
    },
    {
      "cell_type": "code",
      "metadata": {
        "id": "rjb19-oC1tLe"
      },
      "source": [
        "# Query 32: Find Employee Details with Bachelors Degree from their EverBenched and leaveornot\n",
        "df_groupby = {var: pd.DataFrame(df_B.groupby([var, 'EverBenched']).size()) \n",
        "              for var in {'Education', 'LeaveOrNot'}}\n",
        "multi_table([df_groupby['Education'], df_groupby['LeaveOrNot']])"
      ],
      "execution_count": null,
      "outputs": []
    },
    {
      "cell_type": "code",
      "metadata": {
        "id": "nVBkWhBk1xnP"
      },
      "source": [
        "fig = px.histogram(data_frame = df_B,\n",
        "             x = \"EverBenched\",\n",
        "             color=\"ExperienceInCurrentDomain\", title=\"<b>Analysis of EverBenched with ExperienceInCurrentDomaint</b>\",\n",
        "             #pattern_shape_sequence=['x'],\n",
        "             template='plotly_dark')\n",
        "fig.update_layout(bargap=0.2)\n",
        "\n",
        "fig.show()"
      ],
      "execution_count": null,
      "outputs": []
    },
    {
      "cell_type": "code",
      "metadata": {
        "id": "gNrUE88N11gw"
      },
      "source": [
        "# Query 33: Find Employee Details with Bachelors Degree from their EverBenched and ExperienceInCurrentDomain\n",
        "df_groupby = {var: pd.DataFrame(df_B.groupby([var, 'EverBenched']).size()) \n",
        "              for var in {'Education', 'ExperienceInCurrentDomain'}}\n",
        "multi_table([df_groupby['Education'], df_groupby['ExperienceInCurrentDomain']])"
      ],
      "execution_count": null,
      "outputs": []
    },
    {
      "cell_type": "code",
      "metadata": {
        "id": "2f8Ukiwl17RP"
      },
      "source": [
        "fig = px.histogram(data_frame = df_B,\n",
        "             x = \"ExperienceInCurrentDomain\",\n",
        "             color=\"LeaveOrNot\", title=\"<b>Analysis of ExperienceInCurrentDomaint with LeaveOrNot</b>\",\n",
        "             #pattern_shape_sequence=['x'],\n",
        "             template='plotly_dark')\n",
        "fig.update_layout(bargap=0.2)\n",
        "\n",
        "fig.show()"
      ],
      "execution_count": null,
      "outputs": []
    },
    {
      "cell_type": "code",
      "metadata": {
        "id": "SP_VJd0anXSe"
      },
      "source": [
        "#Query 34: Find Employee Details with Bachelors Degree from their ExperienceInCurrentDomain and leaveornot\n",
        "df_groupby = {var: pd.DataFrame(df_B.groupby([var, 'ExperienceInCurrentDomain']).size()) \n",
        "              for var in {'Education', 'LeaveOrNot'}}\n",
        "multi_table([df_groupby['Education'], df_groupby['LeaveOrNot']])"
      ],
      "execution_count": null,
      "outputs": []
    },
    {
      "cell_type": "code",
      "metadata": {
        "id": "B1Q26uL4FP8p"
      },
      "source": [
        "# Query 35: What is the average age of Employees from bachelors degree\n",
        "df_B['Age'].mean()"
      ],
      "execution_count": null,
      "outputs": []
    },
    {
      "cell_type": "code",
      "metadata": {
        "id": "1u05Df2NFXdq"
      },
      "source": [
        "# Analysis of bachelors degree Employees With Age\n",
        "fig = px.histogram(data_frame = df_B,\n",
        "             x = \"Age\",\n",
        "             color=\"LeaveOrNot\", title=\"<b>Analysis of Age with LeaveOrNot</b>\",\n",
        "             pattern_shape_sequence=['x'],\n",
        "             template='plotly_dark')\n",
        "fig.update_layout(bargap=0.2)"
      ],
      "execution_count": null,
      "outputs": []
    },
    {
      "cell_type": "code",
      "metadata": {
        "id": "zojalvysFbpD"
      },
      "source": [
        "# Query 36: Bachelors degree Employees of what age are likely to leave most\n",
        "df_groupby = {var: pd.DataFrame(df_B.groupby([var, 'Age']).size()) \n",
        "              for var in {'Education', 'LeaveOrNot'}}\n",
        "multi_table([df_groupby['Education'], df_groupby['LeaveOrNot']])"
      ],
      "execution_count": null,
      "outputs": []
    },
    {
      "cell_type": "code",
      "metadata": {
        "id": "RiCOSAqRFgGu"
      },
      "source": [
        "fig = px.histogram(data_frame = df_B,\n",
        "             x = \"Age\",\n",
        "             color=\"JoiningYear\", title=\"<b>Analysis of Age with JoiningYear</b>\",\n",
        "             pattern_shape_sequence=['x'],\n",
        "             template='plotly_dark')\n",
        "fig.update_layout(bargap=0.2)"
      ],
      "execution_count": null,
      "outputs": []
    },
    {
      "cell_type": "code",
      "metadata": {
        "id": "sVCqh0dUFzJR"
      },
      "source": [
        "fig = px.histogram(data_frame = df_B,\n",
        "             x = \"Age\",\n",
        "             color=\"City\", title=\"<b>Analysis of Age with City</b>\",\n",
        "             pattern_shape_sequence=['x'],\n",
        "             template='plotly_dark')\n",
        "fig.update_layout(bargap=0.2)"
      ],
      "execution_count": null,
      "outputs": []
    },
    {
      "cell_type": "code",
      "metadata": {
        "id": "VSxgFJcwGHhL"
      },
      "source": [
        "fig = px.histogram(data_frame = df_B,\n",
        "             x = \"Age\",\n",
        "             color=\"PaymentTier\", title=\"<b>Analysis of Age with PaymentTier</b>\",\n",
        "             pattern_shape_sequence=['x'],\n",
        "             template='plotly_dark')\n",
        "fig.update_layout(bargap=0.2)"
      ],
      "execution_count": null,
      "outputs": []
    },
    {
      "cell_type": "code",
      "metadata": {
        "id": "zfCF4XYlGJ3q"
      },
      "source": [
        "fig = px.histogram(data_frame = df_B,\n",
        "             x = \"Age\",\n",
        "             color=\"Gender\", title=\"<b>Analysis of Age with Gender</b>\",\n",
        "             pattern_shape_sequence=['x'],\n",
        "             template='plotly_dark')\n",
        "fig.update_layout(bargap=0.2)"
      ],
      "execution_count": null,
      "outputs": []
    },
    {
      "cell_type": "code",
      "metadata": {
        "id": "kaOkn6DdGMIu"
      },
      "source": [
        "fig = px.histogram(data_frame = df_B,\n",
        "             x = \"Age\",\n",
        "             color=\"EverBenched\", title=\"<b>Analysis of Age with EverBenched</b>\",\n",
        "             pattern_shape_sequence=['x'],\n",
        "             template='plotly_dark')\n",
        "fig.update_layout(bargap=0.2)"
      ],
      "execution_count": null,
      "outputs": []
    },
    {
      "cell_type": "code",
      "metadata": {
        "id": "sbAewP_AGOK3"
      },
      "source": [
        "fig = px.histogram(data_frame = df_B,\n",
        "             x = \"Age\",\n",
        "             color=\"ExperienceInCurrentDomain\", title=\"<b>Analysis of Age with ExperienceInCurrentDomain</b>\",\n",
        "             pattern_shape_sequence=['x'],\n",
        "             template='plotly_dark')\n",
        "fig.update_layout(bargap=0.2)"
      ],
      "execution_count": null,
      "outputs": []
    },
    {
      "cell_type": "code",
      "metadata": {
        "id": "Sez-SerNGQRT"
      },
      "source": [
        "# Analysis of bachelors degree Employees completed\n",
        "# work in progress\n",
        "# Analysis of whole dataframe\n",
        "fig = px.histogram(data_frame = df,\n",
        "             x = \"Education\",\n",
        "             color=\"LeaveOrNot\", title=\"<b>Analysis of Education with LeaveOrNot</b>\",\n",
        "             pattern_shape_sequence=['x'],\n",
        "             template='plotly_dark')\n",
        "fig.update_layout(bargap=0.2)"
      ],
      "execution_count": null,
      "outputs": []
    },
    {
      "cell_type": "code",
      "metadata": {
        "id": "GVWjpTa_GY97"
      },
      "source": [
        "fig = px.histogram(data_frame = df,\n",
        "             x = \"Education\",\n",
        "             color=\"City\", title=\"<b>Analysis of Education with City</b>\",\n",
        "             pattern_shape_sequence=['x'],\n",
        "             template='plotly_dark')\n",
        "fig.update_layout(bargap=0.2)"
      ],
      "execution_count": null,
      "outputs": []
    },
    {
      "cell_type": "code",
      "metadata": {
        "id": "qgGfsxdMGbO7"
      },
      "source": [
        "fig = px.histogram(data_frame = df,\n",
        "             x = \"Education\",\n",
        "             color=\"Gender\", title=\"<b>Analysis of Education with Gender</b>\",\n",
        "             pattern_shape_sequence=['x'],\n",
        "             template='plotly_dark')\n",
        "fig.update_layout(bargap=0.2)"
      ],
      "execution_count": null,
      "outputs": []
    },
    {
      "cell_type": "code",
      "metadata": {
        "id": "50ZadKPLGdg9"
      },
      "source": [
        "fig = px.histogram(data_frame = df,\n",
        "             x = \"Education\",\n",
        "             color=\"PaymentTier\", title=\"<b>Analysis of Education with PaymentTier</b>\",\n",
        "             pattern_shape_sequence=['x'],\n",
        "             template='plotly_dark')\n",
        "fig.update_layout(bargap=0.2)"
      ],
      "execution_count": null,
      "outputs": []
    },
    {
      "cell_type": "code",
      "metadata": {
        "id": "X0qNpHwCGfkj"
      },
      "source": [
        "fig = px.histogram(data_frame = df,\n",
        "             x = \"Education\",\n",
        "             color=\"EverBenched\", title=\"<b>Analysis of Education with EverBenched</b>\",\n",
        "             pattern_shape_sequence=['x'],\n",
        "             template='plotly_dark')\n",
        "fig.update_layout(bargap=0.2)"
      ],
      "execution_count": null,
      "outputs": []
    },
    {
      "cell_type": "code",
      "metadata": {
        "id": "iflDb8wjGiGW"
      },
      "source": [
        "fig = px.histogram(data_frame = df,\n",
        "             x = \"Education\",\n",
        "             color=\"ExperienceInCurrentDomain\", title=\"<b>Analysis of Education with ExperienceInCurrentDomain</b>\",\n",
        "             pattern_shape_sequence=['x'],\n",
        "             template='plotly_dark')\n",
        "fig.update_layout(bargap=0.2)"
      ],
      "execution_count": null,
      "outputs": []
    },
    {
      "cell_type": "code",
      "metadata": {
        "id": "15f04sQQGkY1"
      },
      "source": [
        "fig = px.histogram(data_frame = df,\n",
        "             x = \"Education\",\n",
        "             color=\"JoiningYear\", title=\"<b>Analysis of Education with JoiningYear</b>\",\n",
        "             pattern_shape_sequence=['x'],\n",
        "             template='plotly_dark')\n",
        "fig.update_layout(bargap=0.2)"
      ],
      "execution_count": null,
      "outputs": []
    },
    {
      "cell_type": "code",
      "metadata": {
        "id": "y1akFAwqGmka"
      },
      "source": [
        "fig = px.histogram(data_frame = df,\n",
        "             x = \"City\",\n",
        "             color=\"JoiningYear\", title=\"<b>Analysis of City JoiningYear with City</b>\",\n",
        "             pattern_shape_sequence=['x'],\n",
        "             template='plotly_dark')\n",
        "fig.update_layout(bargap=0.2)"
      ],
      "execution_count": null,
      "outputs": []
    },
    {
      "cell_type": "code",
      "metadata": {
        "id": "dzDOyIGpJHX4"
      },
      "source": [
        "fig = px.histogram(data_frame = df,\n",
        "             x = \"City\",\n",
        "             color=\"PaymentTier\", title=\"<b>Analysis of City JoiningYear with PaymentTier</b>\",\n",
        "             pattern_shape_sequence=['x'],\n",
        "             template='plotly_dark')\n",
        "fig.update_layout(bargap=0.2)"
      ],
      "execution_count": null,
      "outputs": []
    },
    {
      "cell_type": "code",
      "metadata": {
        "id": "G9uuRCJIJKHA"
      },
      "source": [
        "fig = px.histogram(data_frame = df,\n",
        "             x = \"City\",\n",
        "             color=\"EverBenched\", title=\"<b>Analysis of City JoiningYear with EverBenched</b>\",\n",
        "             pattern_shape_sequence=['x'],\n",
        "             template='plotly_dark')\n",
        "fig.update_layout(bargap=0.2)"
      ],
      "execution_count": null,
      "outputs": []
    },
    {
      "cell_type": "code",
      "metadata": {
        "id": "UwovG4dmJM_o"
      },
      "source": [
        "fig = px.histogram(data_frame = df,\n",
        "             x = \"City\",\n",
        "             color=\"ExperienceInCurrentDomain\", title=\"<b>Analysis of City JoiningYear with ExperienceInCurrentDomain</b>\",\n",
        "             pattern_shape_sequence=['x'],\n",
        "             template='plotly_dark')\n",
        "fig.update_layout(bargap=0.2)"
      ],
      "execution_count": null,
      "outputs": []
    },
    {
      "cell_type": "code",
      "metadata": {
        "id": "axehW6GhJQE6"
      },
      "source": [
        "fig = px.histogram(data_frame = df,\n",
        "             x = \"City\",\n",
        "             color=\"LeaveOrNot\", title=\"<b>Analysis of City JoiningYear with LeaveOrNot</b>\",\n",
        "             pattern_shape_sequence=['x'],\n",
        "             template='plotly_dark')\n",
        "fig.update_layout(bargap=0.2)"
      ],
      "execution_count": null,
      "outputs": []
    },
    {
      "cell_type": "code",
      "metadata": {
        "id": "3jpZ7xQ8JS0s"
      },
      "source": [
        "fig = px.histogram(data_frame = df,\n",
        "             x = \"Gender\",\n",
        "             color=\"EverBenched\", title=\"<b>Analysis of Gender JoiningYear with EverBenched</b>\",\n",
        "             pattern_shape_sequence=['x'],\n",
        "             template='plotly_dark')\n",
        "fig.update_layout(bargap=0.2)"
      ],
      "execution_count": null,
      "outputs": []
    },
    {
      "cell_type": "code",
      "metadata": {
        "id": "CoBiPDBOJVQA"
      },
      "source": [
        "fig = px.histogram(data_frame = df,\n",
        "             x = \"Gender\",\n",
        "             color=\"ExperienceInCurrentDomain\", title=\"<b>Analysis of Gender JoiningYear with ExperienceInCurrentDomain</b>\",\n",
        "             pattern_shape_sequence=['x'],\n",
        "             template='plotly_dark')\n",
        "fig.update_layout(bargap=0.2)"
      ],
      "execution_count": null,
      "outputs": []
    },
    {
      "cell_type": "code",
      "metadata": {
        "id": "lyBvJEKbJXxG"
      },
      "source": [
        "fig = px.histogram(data_frame = df,\n",
        "             x = \"Gender\",\n",
        "             color=\"LeaveOrNot\", title=\"<b>Analysis of Gender JoiningYear with LeaveOrNot</b>\",\n",
        "             pattern_shape_sequence=['x'],\n",
        "             template='plotly_dark')\n",
        "fig.update_layout(bargap=0.2)"
      ],
      "execution_count": null,
      "outputs": []
    },
    {
      "cell_type": "code",
      "metadata": {
        "id": "W43gK4nwJZ9i"
      },
      "source": [
        "fig = px.histogram(data_frame = df,\n",
        "             x = \"EverBenched\",\n",
        "             color=\"ExperienceInCurrentDomain\", title=\"<b>Analysis of EverBenched JoiningYear with ExperienceInCurrentDomain</b>\",\n",
        "             pattern_shape_sequence=['x'],\n",
        "             template='plotly_dark')\n",
        "fig.update_layout(bargap=0.2)"
      ],
      "execution_count": null,
      "outputs": []
    },
    {
      "cell_type": "code",
      "metadata": {
        "id": "HYfV-JVJJm2Q"
      },
      "source": [
        "fig = px.histogram(data_frame = df,\n",
        "             x = \"EverBenched\",\n",
        "             color=\"LeaveOrNot\", title=\"<b>Analysis of EverBenched JoiningYear with LeaveOrNot</b>\",\n",
        "             pattern_shape_sequence=['x'],\n",
        "             template='plotly_dark')\n",
        "fig.update_layout(bargap=0.2)"
      ],
      "execution_count": null,
      "outputs": []
    },
    {
      "cell_type": "code",
      "metadata": {
        "id": "h4Vb00U1JqRQ"
      },
      "source": [
        "df[df['Education'] == 'Masters']['Age'].mean()"
      ],
      "execution_count": null,
      "outputs": []
    },
    {
      "cell_type": "code",
      "metadata": {
        "id": "z5PkjA3WJsmM"
      },
      "source": [
        "df[df['Education'] == 'PHD']['Age'].mean()"
      ],
      "execution_count": null,
      "outputs": []
    },
    {
      "cell_type": "code",
      "metadata": {
        "id": "MwyXGaLMJvAF"
      },
      "source": [
        "df_M = df[df['Education'] == 'Masters']\n",
        "df_M"
      ],
      "execution_count": null,
      "outputs": []
    },
    {
      "cell_type": "code",
      "metadata": {
        "id": "pRM4GthCJw6w"
      },
      "source": [
        "df_nunique = {var: pd.DataFrame(df_M[var].value_counts()) \n",
        "              for var in {'Education', 'JoiningYear', 'City', 'PaymentTier', 'Gender',\n",
        "       'EverBenched', 'ExperienceInCurrentDomain', 'LeaveOrNot'}}\n",
        "multi_table([df_nunique['Education'], df_nunique['JoiningYear'],df_nunique['City']\n",
        "            ,df_nunique['PaymentTier'],df_nunique['Gender'],df_nunique['EverBenched'],\n",
        "             df_nunique['ExperienceInCurrentDomain'],df_nunique['LeaveOrNot']])"
      ],
      "execution_count": null,
      "outputs": []
    },
    {
      "cell_type": "code",
      "metadata": {
        "id": "rV6JxRihJ0-h"
      },
      "source": [
        "df_groupby = {var: pd.DataFrame(df_M.groupby([var, 'Age']).size()) \n",
        "              for var in {'Education', 'JoiningYear', 'City', 'PaymentTier', 'Gender',\n",
        "       'EverBenched', 'ExperienceInCurrentDomain', 'LeaveOrNot'}}\n",
        "multi_table([df_groupby['Education'], df_groupby['JoiningYear'],df_groupby['City']\n",
        "            ,df_groupby['PaymentTier'],df_groupby['Gender'],df_groupby['EverBenched'],\n",
        "             df_groupby['ExperienceInCurrentDomain'],df_groupby['LeaveOrNot']])"
      ],
      "execution_count": null,
      "outputs": []
    },
    {
      "cell_type": "code",
      "metadata": {
        "id": "qWIccrXxJ3vh"
      },
      "source": [
        "df_P = df[df['Education'] == 'PHD']\n",
        "df_P"
      ],
      "execution_count": null,
      "outputs": []
    },
    {
      "cell_type": "code",
      "metadata": {
        "id": "OwV7JYYgJ6Vl"
      },
      "source": [
        "df_nunique = {var: pd.DataFrame(df_P[var].value_counts()) \n",
        "              for var in {'Education', 'JoiningYear', 'City', 'PaymentTier', 'Gender',\n",
        "       'EverBenched', 'ExperienceInCurrentDomain', 'LeaveOrNot'}}\n",
        "multi_table([df_nunique['Education'], df_nunique['JoiningYear'],df_nunique['City']\n",
        "            ,df_nunique['PaymentTier'],df_nunique['Gender'],df_nunique['EverBenched'],\n",
        "             df_nunique['ExperienceInCurrentDomain'],df_nunique['LeaveOrNot']])"
      ],
      "execution_count": null,
      "outputs": []
    },
    {
      "cell_type": "code",
      "metadata": {
        "id": "0D6cbWc9J8ix"
      },
      "source": [
        "df_groupby = {var: pd.DataFrame(df_P.groupby([var, 'Age']).size()) \n",
        "              for var in {'Education', 'JoiningYear', 'City', 'PaymentTier', 'Gender',\n",
        "       'EverBenched', 'ExperienceInCurrentDomain', 'LeaveOrNot'}}\n",
        "multi_table([df_groupby['Education'], df_groupby['JoiningYear'],df_groupby['City']\n",
        "            ,df_groupby['PaymentTier'],df_groupby['Gender'],df_groupby['EverBenched'],\n",
        "             df_groupby['ExperienceInCurrentDomain'],df_groupby['LeaveOrNot']])"
      ],
      "execution_count": null,
      "outputs": []
    },
    {
      "cell_type": "code",
      "metadata": {
        "id": "nZ7IVZjSJ-7x"
      },
      "source": [
        "obj = ['Education', 'City', 'PaymentTier', 'Gender','EverBenched', 'ExperienceInCurrentDomain', 'LeaveOrNot','JoiningYear']\n",
        "num = ['Age']"
      ],
      "execution_count": null,
      "outputs": []
    },
    {
      "cell_type": "code",
      "metadata": {
        "id": "b4AXT1zgKBOQ"
      },
      "source": [
        "for i in range(len(obj)):\n",
        "    plt.figure(figsize=(11,7))\n",
        "    sns.barplot(x=obj[i],y=\"Age\", data=df)\n",
        "    plt.show()"
      ],
      "execution_count": null,
      "outputs": []
    },
    {
      "cell_type": "code",
      "metadata": {
        "id": "TItJkONrKDHn"
      },
      "source": [
        "# Here my target variable is math percentage\n",
        "def categorial_feature_overview(feature, rotation=0):\n",
        "    print(feature, 'has', df[feature].isnull().sum() / len(df) * 100, '% of null values')\n",
        "    f,ax = plt.subplots(1, 2, figsize=(20, 6))\n",
        "    ax[0].tick_params(labelrotation=rotation)\n",
        "    ax[1].tick_params(labelrotation=rotation)\n",
        "    sns.countplot(data=df, x=feature, ax=ax[0]);\n",
        "    sns.boxplot(data=df, x=feature, y='Age', ax=ax[1])\n",
        "    plt.show()\n",
        "    \n",
        "def numerical_feature_overview(feature, rotation=0):\n",
        "    print(feature, 'has', df[feature].isnull().sum() / len(df) * 100, '% of null values')\n",
        "    f,ax = plt.subplots(1, 2, figsize=(20, 6))\n",
        "    ax[0].tick_params(labelrotation=rotation)\n",
        "    ax[1].tick_params(labelrotation=rotation)\n",
        "    sns.scatterplot(data=df, x=feature, y='Age', ax=ax[0]);\n",
        "    sns.boxplot(data=df, x=feature, ax=ax[1])\n",
        "    plt.show()"
      ],
      "execution_count": null,
      "outputs": []
    },
    {
      "cell_type": "code",
      "metadata": {
        "id": "3JfUjAirKGOp"
      },
      "source": [
        "categorial_feature_overview('JoiningYear')"
      ],
      "execution_count": null,
      "outputs": []
    },
    {
      "cell_type": "code",
      "metadata": {
        "id": "wbG4b6j7KIXS"
      },
      "source": [
        "categorial_feature_overview('City')"
      ],
      "execution_count": null,
      "outputs": []
    },
    {
      "cell_type": "code",
      "metadata": {
        "id": "cWwd1FkoKKw8"
      },
      "source": [
        "categorial_feature_overview('PaymentTier')"
      ],
      "execution_count": null,
      "outputs": []
    },
    {
      "cell_type": "code",
      "metadata": {
        "id": "hL-Ke4ofKNXs"
      },
      "source": [
        "categorial_feature_overview('Gender')"
      ],
      "execution_count": null,
      "outputs": []
    },
    {
      "cell_type": "code",
      "metadata": {
        "id": "xaato_mXKPlb"
      },
      "source": [
        "categorial_feature_overview('EverBenched')"
      ],
      "execution_count": null,
      "outputs": []
    },
    {
      "cell_type": "code",
      "metadata": {
        "id": "G2rrNfUvKSGe"
      },
      "source": [
        "categorial_feature_overview('ExperienceInCurrentDomain')"
      ],
      "execution_count": null,
      "outputs": []
    },
    {
      "cell_type": "code",
      "metadata": {
        "id": "b8rllKTdKUGZ"
      },
      "source": [
        "categorial_feature_overview('LeaveOrNot')"
      ],
      "execution_count": null,
      "outputs": []
    },
    {
      "cell_type": "code",
      "metadata": {
        "id": "s4Qz0b3SKW9T"
      },
      "source": [
        "numerical_feature_overview('Age')"
      ],
      "execution_count": null,
      "outputs": []
    },
    {
      "cell_type": "code",
      "metadata": {
        "id": "NYD_moZnKZDF"
      },
      "source": [
        "def count_outliers(data,col):\n",
        "        q1 = data[col].quantile(0.25,interpolation='nearest')\n",
        "        q2 = data[col].quantile(0.5,interpolation='nearest')\n",
        "        q3 = data[col].quantile(0.75,interpolation='nearest')\n",
        "        q4 = data[col].quantile(1,interpolation='nearest')\n",
        "        IQR = q3 -q1\n",
        "        global LLP\n",
        "        global ULP\n",
        "        LLP = q1 - 1.5*IQR\n",
        "        ULP = q3 + 1.5*IQR\n",
        "        if data[col].min() > LLP and data[col].max() < ULP:\n",
        "            print(\"No outliers in\",i)\n",
        "        else:\n",
        "            print(\"There are outliers in\",i)\n",
        "            x = data[data[col]<LLP][col].size\n",
        "            y = data[data[col]>ULP][col].size\n",
        "            a.append(i)\n",
        "            print('Count of outliers are:',x+y)\n",
        "global a\n",
        "a = []\n",
        "x = df.drop(obj,axis = 1)\n",
        "for i in x.columns:\n",
        "    count_outliers(x,i)"
      ],
      "execution_count": null,
      "outputs": []
    },
    {
      "cell_type": "code",
      "metadata": {
        "id": "f5C02IOlKbgK"
      },
      "source": [
        "Num_vars = ['Age']"
      ],
      "execution_count": null,
      "outputs": []
    },
    {
      "cell_type": "code",
      "metadata": {
        "id": "jfwviuTrKdxZ"
      },
      "source": [
        "Cat_vars = df.drop(Num_vars, axis = 1).columns.tolist()\n",
        "Cat_vars"
      ],
      "execution_count": null,
      "outputs": []
    },
    {
      "cell_type": "code",
      "metadata": {
        "id": "LI1vXzITKf3S"
      },
      "source": [
        "Cat_vars_low = list(df[Cat_vars].loc[:, (df[Cat_vars].nunique() < 10)].nunique().index)\n",
        "Cat_vars_high = list(df[Cat_vars].loc[:, (df[Cat_vars].nunique() >= 10)].nunique().index)"
      ],
      "execution_count": null,
      "outputs": []
    },
    {
      "cell_type": "code",
      "metadata": {
        "id": "IVc9-NyJKiNO"
      },
      "source": [
        "sns.set_theme(rc = {'grid.linewidth': 0.5,\n",
        "                    'axes.linewidth': 0.75, 'axes.facecolor': '#fff3e9', 'axes.labelcolor': '#6b1000',\n",
        "                    'figure.facecolor': '#f7e7da'})\n",
        "                    #'xtick.labelcolor': '#6b1000', 'ytick.labelcolor': '#6b1000'"
      ],
      "execution_count": null,
      "outputs": []
    },
    {
      "cell_type": "code",
      "metadata": {
        "id": "ValHntOeKkNx"
      },
      "source": [
        ""
      ],
      "execution_count": null,
      "outputs": []
    }
  ]
}